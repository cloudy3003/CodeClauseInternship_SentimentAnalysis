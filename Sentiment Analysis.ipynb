{
 "cells": [
  {
   "cell_type": "code",
   "execution_count": 1,
   "id": "a5c8197c-6ad8-4ead-9f98-c6d0fffe5988",
   "metadata": {},
   "outputs": [],
   "source": [
    "from textblob import TextBlob\n"
   ]
  },
  {
   "cell_type": "code",
   "execution_count": 2,
   "id": "6cea0789-5f53-45ee-908c-bb1c44e59ced",
   "metadata": {},
   "outputs": [
    {
     "name": "stdout",
     "output_type": "stream",
     "text": [
      "Polarity of Text 1 is 1.0\n",
      "Polarity of Text 2 is -1.0\n",
      "Subjectivity of Text 1 is 1.0\n",
      "Subjectivity of Text 2 is 1.0\n"
     ]
    }
   ],
   "source": [
    "text_1 = \"The movie was so awesome.\"\n",
    "text_2 = \"The food here tastes terrible.\"\n",
    "\n",
    "#Determining the Polarity \n",
    "p_1 = TextBlob(text_1).sentiment.polarity\n",
    "p_2 = TextBlob(text_2).sentiment.polarity\n",
    "\n",
    "#Determining the Subjectivity\n",
    "s_1 = TextBlob(text_1).sentiment.subjectivity\n",
    "s_2 = TextBlob(text_2).sentiment.subjectivity\n",
    "\n",
    "print(\"Polarity of Text 1 is\", p_1)\n",
    "print(\"Polarity of Text 2 is\", p_2)\n",
    "print(\"Subjectivity of Text 1 is\", s_1)\n",
    "print(\"Subjectivity of Text 2 is\", s_2)"
   ]
  },
  {
   "cell_type": "code",
   "execution_count": null,
   "id": "3da9dc87-8c39-4cd5-a734-c4b9e04c039f",
   "metadata": {},
   "outputs": [],
   "source": []
  }
 ],
 "metadata": {
  "kernelspec": {
   "display_name": "Python 3 (ipykernel)",
   "language": "python",
   "name": "python3"
  },
  "language_info": {
   "codemirror_mode": {
    "name": "ipython",
    "version": 3
   },
   "file_extension": ".py",
   "mimetype": "text/x-python",
   "name": "python",
   "nbconvert_exporter": "python",
   "pygments_lexer": "ipython3",
   "version": "3.10.11"
  }
 },
 "nbformat": 4,
 "nbformat_minor": 5
}
